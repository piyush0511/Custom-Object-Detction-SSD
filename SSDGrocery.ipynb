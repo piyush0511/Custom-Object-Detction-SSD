{
  "nbformat": 4,
  "nbformat_minor": 0,
  "metadata": {
    "colab": {
      "name": "SSDGrocery.ipynb",
      "provenance": [],
      "collapsed_sections": []
    },
    "kernelspec": {
      "name": "python3",
      "display_name": "Python 3"
    },
    "accelerator": "GPU"
  },
  "cells": [
    {
      "cell_type": "code",
      "metadata": {
        "id": "5BUw7rVDNwAt",
        "colab_type": "code",
        "colab": {}
      },
      "source": [
        "!pip install tensorflow-gpu==1.15.0 #install tensorflow"
      ],
      "execution_count": 0,
      "outputs": []
    },
    {
      "cell_type": "code",
      "metadata": {
        "id": "LqOSQbrHTxeP",
        "colab_type": "code",
        "colab": {}
      },
      "source": [
        "!apt-get install protobuf-compiler python-pil python-lxml python-tk\n",
        "!pip install Cython\n",
        "\n",
        "!git clone https://github.com/tensorflow/models.git\n",
        "\n",
        "%cd /content/models/research\n",
        "\n",
        "!protoc object_detection/protos/*.proto --python_out=.\n",
        "\n",
        "%set_env PYTHONPATH=/content/models/research:/content/models/research/slim\n",
        "\n",
        "!python object_detection/builders/model_builder_test.py  #test object detection model"
      ],
      "execution_count": 0,
      "outputs": []
    },
    {
      "cell_type": "code",
      "metadata": {
        "id": "GjLtJWM1S4JG",
        "colab_type": "code",
        "colab": {}
      },
      "source": [
        "!pip install imutils\n",
        "from imutils import paths\n",
        "import numpy as np\n",
        "import argparse\n",
        "import random\n",
        "import pickle\n",
        "import cv2\n",
        "import glob\n",
        "import pandas as pd\n",
        "import xml.etree.ElementTree as ET"
      ],
      "execution_count": 0,
      "outputs": []
    },
    {
      "cell_type": "code",
      "metadata": {
        "id": "NcEsv6_hXspT",
        "colab_type": "code",
        "colab": {}
      },
      "source": [
        "\n",
        "#to convert to csv format from file names\n",
        "\n",
        "import os\n",
        "from PIL import Image\n",
        "import csv\n",
        "imagePaths1 = '/content/ProductImagesFromShelves'\n",
        "imagePaths2 = '/content/ShelfImages/train' # or /test\n",
        "csv_list=[]\n",
        "\n",
        "for b in 0,1,2,3,4,5,6,7,8,9,10:\n",
        "  for file in os.listdir(f\"{imagePaths1}/{b}\"):\t\n",
        "    try:\n",
        "      x=file.split(os.path.sep)[-1]\n",
        "      x = x.split(\".\")[-3]\n",
        "      x=x+'.JPG'\n",
        "      img = Image.open(f\"{imagePaths2}/{x}\")\n",
        "      width, height = img.size\n",
        "      y = file.split(\".\")[-2]\n",
        "      y = np.array(y.split(\"_\")[1:5])\n",
        "      value = (x,int(width),int(height),\"prod\",int(y[0]),int(y[1]),int(y[0])+int(y[2]),int(y[1])+int(y[3]))\n",
        "      csv_list.append(value)\n",
        "    except:\n",
        "      continue\n",
        "column_name = ['filename', 'width', 'height', 'class', 'xmin', 'ymin', 'xmax', 'ymax']\n",
        "csv_df = pd.DataFrame(csv_list, columns=column_name)\n",
        "csv_df.to_csv('train.csv', index=None)  #or test.csv\n",
        "print('Successfully converted to csv.')\n"
      ],
      "execution_count": 0,
      "outputs": []
    },
    {
      "cell_type": "code",
      "metadata": {
        "id": "KhzjONlDh9aP",
        "colab_type": "code",
        "colab": {}
      },
      "source": [
        "%cd /content/models/research/\n",
        "!python setup.py install"
      ],
      "execution_count": 0,
      "outputs": []
    },
    {
      "cell_type": "code",
      "metadata": {
        "colab_type": "code",
        "id": "6goCWI8juZAs",
        "colab": {}
      },
      "source": [
        "%cd /content/models/research\n",
        "\n",
        "!protoc object_detection/protos/*.proto --python_out=.\n",
        "\n",
        "%set_env PYTHONPATH=/content/models/research:/content/models/research/slim"
      ],
      "execution_count": 0,
      "outputs": []
    },
    {
      "cell_type": "code",
      "metadata": {
        "colab_type": "code",
        "id": "4-IMl4b6BdGO",
        "colab": {}
      },
      "source": [
        "%cd object_detection/\n",
        "from object_detection.utils import ops as utils_ops\n",
        "from object_detection.utils import label_map_util\n",
        "from object_detection.utils import visualization_utils as vis_util"
      ],
      "execution_count": 0,
      "outputs": []
    },
    {
      "cell_type": "code",
      "metadata": {
        "id": "P6TDutR_wGd3",
        "colab_type": "code",
        "colab": {}
      },
      "source": [
        "#to generate tfrecord from csv\n",
        "\n",
        "%cd /content/drive/My\\ Drive/Grocery/OD  #path to tf_record.py\n",
        "!python generate_tfrecord.py --csv_input=data/test.csv  --output_path=data/test.record  --image_dir=images/test"
      ],
      "execution_count": 0,
      "outputs": []
    },
    {
      "cell_type": "code",
      "metadata": {
        "id": "MxRx8jSextrg",
        "colab_type": "code",
        "colab": {}
      },
      "source": [
        "!wget https://github.com/tensorflow/models/blob/master/research/object_detection/samples/configs/ssd_mobilenet_v1_coco.config"
      ],
      "execution_count": 0,
      "outputs": []
    },
    {
      "cell_type": "code",
      "metadata": {
        "id": "dI7aImnF5z5-",
        "colab_type": "code",
        "colab": {}
      },
      "source": [
        "!wget http://download.tensorflow.org/models/object_detection/ssd_mobilenet_v1_coco_2018_01_28.tar.gz"
      ],
      "execution_count": 0,
      "outputs": []
    },
    {
      "cell_type": "code",
      "metadata": {
        "id": "tam_oY3I7DvO",
        "colab_type": "code",
        "colab": {}
      },
      "source": [
        "!tar -xvzf ssd_mobilenet_v1_coco_2018_01_28.tar.gz"
      ],
      "execution_count": 0,
      "outputs": []
    },
    {
      "cell_type": "code",
      "metadata": {
        "id": "dWe9T9gHEwp3",
        "colab_type": "code",
        "colab": {}
      },
      "source": [
        "%cd /content/\n",
        "%cp -av \"/content/drive/My Drive/Grocery/images\" \"/content/models/research/object_detection/\" \n",
        "%cp -av \"/content/drive/My Drive/Grocery/test.record\" \"/content/models/research/object_detection/data/\" \n",
        "%cp -av \"/content/drive/My Drive/Grocery/train.record\" \"/content/models/research/object_detection/data/\"\n",
        "%cp -av \"/content/drive/My Drive/Grocery/training\" \"/content/models/research/object_detection/\"\n",
        "%cp -av \"/content/drive/My Drive/Grocery/ssd_mobilenet_v1_coco_2018_01_28\" \"/content/models/research/object_detection/\"   "
      ],
      "execution_count": 0,
      "outputs": []
    },
    {
      "cell_type": "code",
      "metadata": {
        "id": "JaxP6GUnBFg5",
        "colab_type": "code",
        "colab": {}
      },
      "source": [
        "%cd /content/models/research/object_detection/"
      ],
      "execution_count": 0,
      "outputs": []
    },
    {
      "cell_type": "code",
      "metadata": {
        "id": "EqypOuhAC3R9",
        "colab_type": "code",
        "colab": {}
      },
      "source": [
        "!python legacy/train.py --logtostderr --train_dir=training/ --pipeline_config_path=training/ssd_mobilenet_v1_pets.config"
      ],
      "execution_count": 0,
      "outputs": []
    },
    {
      "cell_type": "code",
      "metadata": {
        "id": "svHayxk_M56G",
        "colab_type": "code",
        "colab": {}
      },
      "source": [
        "%cp -av \"/content/models/research/object_detection/training\" \"/content/drive/My Drive/training\" "
      ],
      "execution_count": 0,
      "outputs": []
    },
    {
      "cell_type": "code",
      "metadata": {
        "id": "qfWpnSMJJ1XH",
        "colab_type": "code",
        "colab": {}
      },
      "source": [
        "!python export_inference_graph.py --input_type image_tensor --pipeline_config_path training/ssd_mobilenet_v1_pets.config --trained_checkpoint_prefix training/model.ckpt-11018 --output_directory prod_graph"
      ],
      "execution_count": 0,
      "outputs": []
    },
    {
      "cell_type": "code",
      "metadata": {
        "id": "G0cvPZF23UaY",
        "colab_type": "code",
        "colab": {}
      },
      "source": [
        "%cp -av \"/content/models/research/object_detection/prod_graph\" \"/content/drive/My Drive/Grocery\" "
      ],
      "execution_count": 0,
      "outputs": []
    },
    {
      "cell_type": "code",
      "metadata": {
        "id": "vZdx-N63N0J2",
        "colab_type": "code",
        "colab": {}
      },
      "source": [
        ""
      ],
      "execution_count": 0,
      "outputs": []
    }
  ]
}